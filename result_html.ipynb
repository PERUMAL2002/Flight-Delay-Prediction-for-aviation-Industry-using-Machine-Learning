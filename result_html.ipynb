{
  "nbformat": 4,
  "nbformat_minor": 0,
  "metadata": {
    "colab": {
      "provenance": []
    },
    "kernelspec": {
      "name": "python3",
      "display_name": "Python 3"
    },
    "language_info": {
      "name": "python"
    }
  },
  "cells": [
    {
      "cell_type": "code",
      "execution_count": null,
      "metadata": {
        "id": "lJ6XjZR7W-5_"
      },
      "outputs": [],
      "source": [
        "<!doctype html>\n",
        "<html>\n",
        "<head>\n",
        "\t<title>Flight Delay Prediction - Result</title>\n",
        "\t<link rel=\"stylesheet\" href=\"{{ url_for('static',filename='styles/result_styles.css') }}\">\n",
        "</head>\n",
        "<body>\n",
        "\t<img src=\"{{url_for('static', filename='styles/images/Flight.jpg')}}\" id=\"bgimg\">\n",
        "\t{% if prediction == 0.0 %}\n",
        "\t<div class=\"pred_result\" id=\"result_0\">Your flight will likely be on time</div>\n",
        "\t{% endif %}\n",
        "\t{% if prediction == 1.0 %}\n",
        "\t<div class=\"pred_result\" id=\"result_1\">Your flight is likely to be delayed</div>\n",
        "\t{% endif %}\n",
        "</body>\n",
        "</html>"
      ]
    }
  ]
}