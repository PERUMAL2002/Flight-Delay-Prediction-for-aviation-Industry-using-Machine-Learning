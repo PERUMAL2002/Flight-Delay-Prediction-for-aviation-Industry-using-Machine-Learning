{
  "nbformat": 4,
  "nbformat_minor": 0,
  "metadata": {
    "colab": {
      "provenance": []
    },
    "kernelspec": {
      "name": "python3",
      "display_name": "Python 3"
    },
    "language_info": {
      "name": "python"
    }
  },
  "cells": [
    {
      "cell_type": "code",
      "execution_count": null,
      "metadata": {
        "id": "aLUTo2drYRp9"
      },
      "outputs": [],
      "source": [
        "#bgimg {\n",
        "    position: fixed;\n",
        "    z-index: -1;\n",
        "    opacity: 0.7;\n",
        "    width: 100%;\n",
        "    height: 100%;\n",
        "    padding: 0;\n",
        "    margin: 0;\n",
        "    top: 0;\n",
        "}\n",
        "\n",
        "body {\n",
        "\tfont-family: Arial, Helvetica, sans-serif;\n",
        "\tmargin: 0;\n",
        "\tdisplay: flex;\n",
        "\tjustify-content: center;\n",
        "\talign-items: center;\n",
        "\theight: 100vh;\n",
        "}\n",
        "div {\n",
        "\tdisplay: flex;\n",
        "\talign-items: center;\n",
        "\tjustify-content: center;\n",
        "\tfont-size: 50px;\n",
        "\tfont-weight: 700;\n",
        "\tmargin: 0;\n",
        "\theight: 100vh;\n",
        "}"
      ]
    }
  ]
}